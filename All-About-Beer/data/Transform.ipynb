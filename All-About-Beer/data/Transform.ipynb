{
 "cells": [
  {
   "cell_type": "code",
   "execution_count": 13,
   "metadata": {},
   "outputs": [
    {
     "name": "stdout",
     "output_type": "stream",
     "text": [
      "25 error.. move to the next file.\n",
      "26 error.. move to the next file.\n",
      "27 error.. move to the next file.\n",
      "28 error.. move to the next file.\n",
      "29 error.. move to the next file.\n",
      "30 error.. move to the next file.\n",
      "31 error.. move to the next file.\n",
      "32 error.. move to the next file.\n",
      "33 error.. move to the next file.\n",
      "34 error.. move to the next file.\n",
      "35 error.. move to the next file.\n",
      "36 error.. move to the next file.\n",
      "37 error.. move to the next file.\n",
      "38 error.. move to the next file.\n",
      "39 error.. move to the next file.\n",
      "40 error.. move to the next file.\n",
      "41 error.. move to the next file.\n",
      "42 error.. move to the next file.\n",
      "43 error.. move to the next file.\n",
      "44 error.. move to the next file.\n",
      "45 error.. move to the next file.\n",
      "46 error.. move to the next file.\n",
      "47 error.. move to the next file.\n",
      "48 error.. move to the next file.\n",
      "49 error.. move to the next file.\n"
     ]
    }
   ],
   "source": [
    "import pandas as pd\n",
    "\n",
    "# Data frame to store the combined data\n",
    "data = pd.DataFrame(data=[], columns=['beer_info', 'search_name', 'beer_name'])\n",
    "\n",
    "# Number of files collected\n",
    "num_files = 100\n",
    "\n",
    "for i in range(num_files):\n",
    "\n",
    "    # In that path beer_n_1.csv Only files in the format are collected and merged.\n",
    "    try : \n",
    "        temp = pd.read_csv(f'beer_n_{i}.csv', index_col=0)\n",
    "        data = pd.concat([data, temp])\n",
    "    # It is skipped when an error occurs.\n",
    "    except :\n",
    "        print(i, 'error.. move to the next file.')\n",
    "\n",
    "# Save the combined data.\n",
    "data.to_csv('final_data.csv', encoding='utf-8')"
   ]
  },
  {
   "cell_type": "code",
   "execution_count": 14,
   "metadata": {},
   "outputs": [
    {
     "data": {
      "text/html": [
       "<div>\n",
       "<style scoped>\n",
       "    .dataframe tbody tr th:only-of-type {\n",
       "        vertical-align: middle;\n",
       "    }\n",
       "\n",
       "    .dataframe tbody tr th {\n",
       "        vertical-align: top;\n",
       "    }\n",
       "\n",
       "    .dataframe thead th {\n",
       "        text-align: right;\n",
       "    }\n",
       "</style>\n",
       "<table border=\"1\" class=\"dataframe\">\n",
       "  <thead>\n",
       "    <tr style=\"text-align: right;\">\n",
       "      <th></th>\n",
       "      <th>beer_name</th>\n",
       "      <th>beer_info</th>\n",
       "    </tr>\n",
       "  </thead>\n",
       "  <tbody>\n",
       "    <tr>\n",
       "      <th>0</th>\n",
       "      <td>San Miguel</td>\n",
       "      <td>czgr(819)\\r\\n🇵🇱Opole, Poland\\r\\n1.6January 27,...</td>\n",
       "    </tr>\n",
       "    <tr>\n",
       "      <th>1</th>\n",
       "      <td>San Miguel</td>\n",
       "      <td>ResinousMaestro55(268)\\r\\n🇬🇧Hampton, England\\r...</td>\n",
       "    </tr>\n",
       "    <tr>\n",
       "      <th>2</th>\n",
       "      <td>San Miguel</td>\n",
       "      <td>nimbleprop(11,986)\\r\\n🇺🇸Southeast, Washington,...</td>\n",
       "    </tr>\n",
       "    <tr>\n",
       "      <th>3</th>\n",
       "      <td>San Miguel</td>\n",
       "      <td>troopie(4,238)\\r\\n🇺🇸Munchen an der Willamette,...</td>\n",
       "    </tr>\n",
       "    <tr>\n",
       "      <th>4</th>\n",
       "      <td>San Miguel</td>\n",
       "      <td>BubbleTamer35(1)\\r\\n1.9May 28, 2019\\r\\nStrong ...</td>\n",
       "    </tr>\n",
       "  </tbody>\n",
       "</table>\n",
       "</div>"
      ],
      "text/plain": [
       "    beer_name                                          beer_info\n",
       "0  San Miguel  czgr(819)\\r\\n🇵🇱Opole, Poland\\r\\n1.6January 27,...\n",
       "1  San Miguel  ResinousMaestro55(268)\\r\\n🇬🇧Hampton, England\\r...\n",
       "2  San Miguel  nimbleprop(11,986)\\r\\n🇺🇸Southeast, Washington,...\n",
       "3  San Miguel  troopie(4,238)\\r\\n🇺🇸Munchen an der Willamette,...\n",
       "4  San Miguel  BubbleTamer35(1)\\r\\n1.9May 28, 2019\\r\\nStrong ..."
      ]
     },
     "execution_count": 14,
     "metadata": {},
     "output_type": "execute_result"
    }
   ],
   "source": [
    "data = pd.read_csv('final_data.csv', encoding='utf-8', index_col=0)\n",
    "\n",
    "data = data[['beer_name', 'beer_info']]\n",
    "\n",
    "data.head()"
   ]
  },
  {
   "cell_type": "markdown",
   "metadata": {},
   "source": [
    "# Transform"
   ]
  },
  {
   "cell_type": "code",
   "execution_count": 15,
   "metadata": {},
   "outputs": [
    {
     "data": {
      "text/plain": [
       "'czgr(819)\\r\\n🇵🇱Opole, Poland\\r\\n1.6January 27, 2021\\r\\nPite jakiś czas temu. Ocena w celu uzupełnienia profilu. \\r\\nhttps://www.instagram.com/czgr_\\r\\nAroma\\r\\n-\\r\\nAppearance\\r\\n-\\r\\nFlavor\\r\\n-\\r\\nMouthfeel\\r\\n-\\r\\nOverall\\r\\n-'"
      ]
     },
     "execution_count": 15,
     "metadata": {},
     "output_type": "execute_result"
    }
   ],
   "source": [
    "data['beer_info'].iloc[0]"
   ]
  },
  {
   "cell_type": "code",
   "execution_count": 18,
   "metadata": {},
   "outputs": [
    {
     "data": {
      "text/plain": [
       "0    [czgr(819), 🇵🇱Opole, Poland, 1.6January 27, 20...\n",
       "1    [ResinousMaestro55(268), 🇬🇧Hampton, England, 2...\n",
       "2    [nimbleprop(11,986), 🇺🇸Southeast, Washington, ...\n",
       "3    [troopie(4,238), 🇺🇸Munchen an der Willamette, ...\n",
       "4    [BubbleTamer35(1), 1.9May 28, 2019, Strong tas...\n",
       "                           ...                        \n",
       "1    [Viper666.Qc(10,518)\\n🇨🇦Richelieu, Canada\\n4.0...\n",
       "2    [TaktikMTL(8,008)\\n🇨🇦Montréal, Canada\\n4.0Febr...\n",
       "3    [MartinT(10,698)\\n🇨🇦Montreal, Canada\\n3.8Septe...\n",
       "4    [Stoned99(2,365)\\n🇨🇦Saint-Jean-Sur-Richelieu, ...\n",
       "5    [punkska101(3,022)\\n🇨🇦Chambly, Canada\\n4.1Sept...\n",
       "Name: beer_info, Length: 87029, dtype: object"
      ]
     },
     "execution_count": 18,
     "metadata": {},
     "output_type": "execute_result"
    }
   ],
   "source": [
    "# Copy the original dataframe\n",
    "temp = data.copy()\n",
    "\n",
    "# \\n Separation based on newline character\n",
    "temp['beer_info'] = temp['beer_info'].str.split('\\r\\n')\n",
    "temp['beer_info']"
   ]
  },
  {
   "cell_type": "code",
   "execution_count": 19,
   "metadata": {},
   "outputs": [
    {
     "data": {
      "text/plain": [
       "['czgr(819)',\n",
       " '🇵🇱Opole, Poland',\n",
       " '1.6January 27, 2021',\n",
       " 'Pite jakiś czas temu. Ocena w celu uzupełnienia profilu. ',\n",
       " 'https://www.instagram.com/czgr_',\n",
       " 'Aroma',\n",
       " '-',\n",
       " 'Appearance',\n",
       " '-',\n",
       " 'Flavor',\n",
       " '-',\n",
       " 'Mouthfeel',\n",
       " '-',\n",
       " 'Overall',\n",
       " '-']"
      ]
     },
     "execution_count": 19,
     "metadata": {},
     "output_type": "execute_result"
    }
   ],
   "source": [
    "# Check separated string value -> Converted to List\n",
    "temp['beer_info'].iloc[0]"
   ]
  },
  {
   "cell_type": "code",
   "execution_count": 20,
   "metadata": {},
   "outputs": [
    {
     "data": {
      "text/plain": [
       "['drfabulous(13,307)',\n",
       " '🇺🇸Lexington, United States',\n",
       " '2.5July 27, 2018',\n",
       " '12 ounce can on a plane. Nothing special here. Same old plain tasteless or slightly sweet cheap lager.',\n",
       " 'Aroma',\n",
       " '5',\n",
       " 'Appearance',\n",
       " '2',\n",
       " 'Flavor',\n",
       " '2',\n",
       " 'Mouthfeel',\n",
       " '3',\n",
       " 'Overall',\n",
       " '13']"
      ]
     },
     "execution_count": 20,
     "metadata": {},
     "output_type": "execute_result"
    }
   ],
   "source": [
    "# We will preprocess after copy() to the new data frame ttmp.\n",
    "ttmp = temp.copy()\n",
    "# Beer information list output: User information with the number of likes\n",
    "ttmp['beer_info'].iloc[10]"
   ]
  },
  {
   "cell_type": "code",
   "execution_count": 21,
   "metadata": {},
   "outputs": [
    {
     "ename": "IndexError",
     "evalue": "list index out of range",
     "output_type": "error",
     "traceback": [
      "\u001b[1;31m---------------------------------------------------------------------------\u001b[0m",
      "\u001b[1;31mIndexError\u001b[0m                                Traceback (most recent call last)",
      "\u001b[1;32m<ipython-input-21-7d40f990e12a>\u001b[0m in \u001b[0;36m<module>\u001b[1;34m\u001b[0m\n\u001b[0;32m      1\u001b[0m \u001b[1;31m# Find the one with 1 like in the entire data frame and delete the last one\u001b[0m\u001b[1;33m\u001b[0m\u001b[1;33m\u001b[0m\u001b[1;33m\u001b[0m\u001b[0m\n\u001b[1;32m----> 2\u001b[1;33m \u001b[0mttmp\u001b[0m\u001b[1;33m[\u001b[0m\u001b[1;34m'beer_info'\u001b[0m\u001b[1;33m]\u001b[0m \u001b[1;33m=\u001b[0m \u001b[0mttmp\u001b[0m\u001b[1;33m[\u001b[0m\u001b[1;34m'beer_info'\u001b[0m\u001b[1;33m]\u001b[0m\u001b[1;33m.\u001b[0m\u001b[0mapply\u001b[0m\u001b[1;33m(\u001b[0m\u001b[1;32mlambda\u001b[0m \u001b[0mx\u001b[0m \u001b[1;33m:\u001b[0m \u001b[0mx\u001b[0m \u001b[1;32mif\u001b[0m \u001b[0mx\u001b[0m\u001b[1;33m[\u001b[0m\u001b[1;33m-\u001b[0m\u001b[1;36m2\u001b[0m\u001b[1;33m]\u001b[0m\u001b[1;33m==\u001b[0m\u001b[1;34m'Overall'\u001b[0m \u001b[1;32melse\u001b[0m \u001b[0mx\u001b[0m\u001b[1;33m[\u001b[0m\u001b[1;33m:\u001b[0m\u001b[1;33m-\u001b[0m\u001b[1;36m1\u001b[0m\u001b[1;33m]\u001b[0m \u001b[1;33m)\u001b[0m\u001b[1;33m\u001b[0m\u001b[1;33m\u001b[0m\u001b[0m\n\u001b[0m",
      "\u001b[1;32m~\\anaconda3\\lib\\site-packages\\pandas\\core\\series.py\u001b[0m in \u001b[0;36mapply\u001b[1;34m(self, func, convert_dtype, args, **kwds)\u001b[0m\n\u001b[0;32m   3846\u001b[0m             \u001b[1;32melse\u001b[0m\u001b[1;33m:\u001b[0m\u001b[1;33m\u001b[0m\u001b[1;33m\u001b[0m\u001b[0m\n\u001b[0;32m   3847\u001b[0m                 \u001b[0mvalues\u001b[0m \u001b[1;33m=\u001b[0m \u001b[0mself\u001b[0m\u001b[1;33m.\u001b[0m\u001b[0mastype\u001b[0m\u001b[1;33m(\u001b[0m\u001b[0mobject\u001b[0m\u001b[1;33m)\u001b[0m\u001b[1;33m.\u001b[0m\u001b[0mvalues\u001b[0m\u001b[1;33m\u001b[0m\u001b[1;33m\u001b[0m\u001b[0m\n\u001b[1;32m-> 3848\u001b[1;33m                 \u001b[0mmapped\u001b[0m \u001b[1;33m=\u001b[0m \u001b[0mlib\u001b[0m\u001b[1;33m.\u001b[0m\u001b[0mmap_infer\u001b[0m\u001b[1;33m(\u001b[0m\u001b[0mvalues\u001b[0m\u001b[1;33m,\u001b[0m \u001b[0mf\u001b[0m\u001b[1;33m,\u001b[0m \u001b[0mconvert\u001b[0m\u001b[1;33m=\u001b[0m\u001b[0mconvert_dtype\u001b[0m\u001b[1;33m)\u001b[0m\u001b[1;33m\u001b[0m\u001b[1;33m\u001b[0m\u001b[0m\n\u001b[0m\u001b[0;32m   3849\u001b[0m \u001b[1;33m\u001b[0m\u001b[0m\n\u001b[0;32m   3850\u001b[0m         \u001b[1;32mif\u001b[0m \u001b[0mlen\u001b[0m\u001b[1;33m(\u001b[0m\u001b[0mmapped\u001b[0m\u001b[1;33m)\u001b[0m \u001b[1;32mand\u001b[0m \u001b[0misinstance\u001b[0m\u001b[1;33m(\u001b[0m\u001b[0mmapped\u001b[0m\u001b[1;33m[\u001b[0m\u001b[1;36m0\u001b[0m\u001b[1;33m]\u001b[0m\u001b[1;33m,\u001b[0m \u001b[0mSeries\u001b[0m\u001b[1;33m)\u001b[0m\u001b[1;33m:\u001b[0m\u001b[1;33m\u001b[0m\u001b[1;33m\u001b[0m\u001b[0m\n",
      "\u001b[1;32mpandas\\_libs\\lib.pyx\u001b[0m in \u001b[0;36mpandas._libs.lib.map_infer\u001b[1;34m()\u001b[0m\n",
      "\u001b[1;32m<ipython-input-21-7d40f990e12a>\u001b[0m in \u001b[0;36m<lambda>\u001b[1;34m(x)\u001b[0m\n\u001b[0;32m      1\u001b[0m \u001b[1;31m# Find the one with 1 like in the entire data frame and delete the last one\u001b[0m\u001b[1;33m\u001b[0m\u001b[1;33m\u001b[0m\u001b[1;33m\u001b[0m\u001b[0m\n\u001b[1;32m----> 2\u001b[1;33m \u001b[0mttmp\u001b[0m\u001b[1;33m[\u001b[0m\u001b[1;34m'beer_info'\u001b[0m\u001b[1;33m]\u001b[0m \u001b[1;33m=\u001b[0m \u001b[0mttmp\u001b[0m\u001b[1;33m[\u001b[0m\u001b[1;34m'beer_info'\u001b[0m\u001b[1;33m]\u001b[0m\u001b[1;33m.\u001b[0m\u001b[0mapply\u001b[0m\u001b[1;33m(\u001b[0m\u001b[1;32mlambda\u001b[0m \u001b[0mx\u001b[0m \u001b[1;33m:\u001b[0m \u001b[0mx\u001b[0m \u001b[1;32mif\u001b[0m \u001b[0mx\u001b[0m\u001b[1;33m[\u001b[0m\u001b[1;33m-\u001b[0m\u001b[1;36m2\u001b[0m\u001b[1;33m]\u001b[0m\u001b[1;33m==\u001b[0m\u001b[1;34m'Overall'\u001b[0m \u001b[1;32melse\u001b[0m \u001b[0mx\u001b[0m\u001b[1;33m[\u001b[0m\u001b[1;33m:\u001b[0m\u001b[1;33m-\u001b[0m\u001b[1;36m1\u001b[0m\u001b[1;33m]\u001b[0m \u001b[1;33m)\u001b[0m\u001b[1;33m\u001b[0m\u001b[1;33m\u001b[0m\u001b[0m\n\u001b[0m",
      "\u001b[1;31mIndexError\u001b[0m: list index out of range"
     ]
    }
   ],
   "source": [
    "# Find the one with 1 like in the entire data frame and delete the last one\n",
    "ttmp['beer_info'] = ttmp['beer_info'].apply(lambda x : x if x[-2]=='Overall' else x[:-1] )"
   ]
  },
  {
   "cell_type": "code",
   "execution_count": null,
   "metadata": {},
   "outputs": [],
   "source": [
    "# From beer information0,1,2,3 Extract the first list element and 10 list elements (score values) from the back\n",
    "ttmp['beer_info'] = ttmp['beer_info'].apply(lambda x : x[:4]+x[:-11:-1])\n",
    "\n",
    "# The number of likes has been deleted normally\n",
    "ttmp['beer_info'].iloc[10]"
   ]
  },
  {
   "cell_type": "code",
   "execution_count": null,
   "metadata": {},
   "outputs": [],
   "source": [
    "# Store ID in first list element\n",
    "# After that, each evaluation value is saved from the back\n",
    "ttmp['user'] = ttmp['beer_info'].apply(lambda x: x[0])\n",
    "ttmp['aroma'] = ttmp['beer_info'].apply(lambda x: x[-2])\n",
    "ttmp['appearance'] = ttmp['beer_info'].apply(lambda x: x[-4])\n",
    "ttmp['flavor'] = ttmp['beer_info'].apply(lambda x: x[-6])\n",
    "ttmp['mouthfeel'] = ttmp['beer_info'].apply(lambda x: x[-8])\n",
    "ttmp['overall'] = ttmp['beer_info'].apply(lambda x: x[-10])\n",
    "\n",
    "# Of the list 1,2,3 Pull out only the first element (rating date or odd value)\n",
    "ttmp['beer_info'] = ttmp['beer_info'].apply(lambda x:x[1:4])\n",
    "ttmp['length'] = ttmp['beer_info'].apply(lambda x:len(x))\n",
    "\n",
    "# Check the result\n",
    "ttmp.head(3)"
   ]
  },
  {
   "cell_type": "code",
   "execution_count": null,
   "metadata": {},
   "outputs": [],
   "source": [
    "# 4.0 + Use regular expressions to extract text that has been treated as an alphabet\n",
    "\n",
    "import re\n",
    "\n",
    "# ex) 4.0December 28, 2020 extraction\n",
    "reg = re.compile('[0-9]+.+[0-9]+[A-Za-z0-9]*')"
   ]
  },
  {
   "cell_type": "code",
   "execution_count": null,
   "metadata": {},
   "outputs": [],
   "source": [
    "# If it matches the string corresponding to the regular expression, the list element is saved in the beer information.\n",
    "# reg.match()Is re.compile() Returns the string that matches the regular expression of, otherwise returns False\n",
    "# Using nested ternary expressions: https://ooyoung.tistory.com/116\n",
    "\n",
    "ttmp['beer_info'] = ttmp['beer_info'].apply(lambda x: x[0] if reg.match(x[0]) else \n",
    "                                  (x[1] if reg.match(x[1]) else x[2]))\n",
    "\n",
    "# Check the result\n",
    "ttmp.head()"
   ]
  },
  {
   "cell_type": "code",
   "execution_count": null,
   "metadata": {},
   "outputs": [],
   "source": [
    "# Ratings are treated as strings from 0th to 3rd, and dates after that.\n",
    "ttmp['rating'] = ttmp['beer_info'].apply(lambda x : x[:3])\n",
    "ttmp['date'] = ttmp['beer_info'].apply(lambda x : x[3:])\n",
    "\n",
    "ttmp.head()"
   ]
  },
  {
   "cell_type": "code",
   "execution_count": null,
   "metadata": {},
   "outputs": [],
   "source": [
    "ttmp.drop(['beer_info', 'length'], axis=1, inplace=True)\n",
    "ttmp.head()"
   ]
  },
  {
   "cell_type": "code",
   "execution_count": null,
   "metadata": {},
   "outputs": [],
   "source": [
    "ttmp.rating.unique()"
   ]
  },
  {
   "cell_type": "code",
   "execution_count": null,
   "metadata": {},
   "outputs": [],
   "source": [
    "ttmp.aroma.unique()"
   ]
  },
  {
   "cell_type": "code",
   "execution_count": null,
   "metadata": {},
   "outputs": [],
   "source": [
    "# Save only data with no detailed review value of'-'\n",
    "ttmp = ttmp[ttmp['aroma']!='\\r']\n",
    "#ttmp = ttmp[ttmp['aroma']!='\\r']\n",
    "ttmp = ttmp[ttmp['appearance']!='-']\n",
    "ttmp = ttmp[ttmp['flavor']!='-']\n",
    "ttmp = ttmp[ttmp['mouthfeel']!='-']\n",
    "ttmp = ttmp[ttmp['overall']!='-']\n",
    "ttmp[ttmp['aroma']=='-']"
   ]
  },
  {
   "cell_type": "code",
   "execution_count": null,
   "metadata": {},
   "outputs": [],
   "source": [
    "ttmp.aroma.unique()"
   ]
  },
  {
   "cell_type": "code",
   "execution_count": null,
   "metadata": {},
   "outputs": [],
   "source": [
    "ttmp.info()"
   ]
  },
  {
   "cell_type": "code",
   "execution_count": null,
   "metadata": {},
   "outputs": [],
   "source": [
    "# Convert numeric data to real number: use pd.to_numeric() function\n",
    "ttmp['rating'] = pd.to_numeric(ttmp['rating'])\n",
    "ttmp['aroma'] = pd.to_numeric(ttmp['aroma'])\n",
    "ttmp['appearance'] = pd.to_numeric(ttmp['appearance'])\n",
    "ttmp['flavor'] = pd.to_numeric(ttmp['flavor'])\n",
    "ttmp['mouthfeel'] = pd.to_numeric(ttmp['mouthfeel'])\n",
    "ttmp['overall'] = pd.to_numeric(ttmp['overall'])\n",
    "# Remove duplicate rows.\n",
    "ttmp.drop_duplicates(keep='first', inplace=True)\n",
    "\n",
    "# Final data verification\n",
    "ttmp.info()"
   ]
  },
  {
   "cell_type": "code",
   "execution_count": null,
   "metadata": {},
   "outputs": [],
   "source": [
    "# Determine distribution of final data values\n",
    "ttmp.describe()"
   ]
  },
  {
   "cell_type": "code",
   "execution_count": null,
   "metadata": {},
   "outputs": [],
   "source": [
    "ttmp.to_csv('final_data.csv', encoding='utf-8')"
   ]
  },
  {
   "cell_type": "code",
   "execution_count": null,
   "metadata": {},
   "outputs": [],
   "source": []
  }
 ],
 "metadata": {
  "kernelspec": {
   "display_name": "Python 3",
   "language": "python",
   "name": "python3"
  },
  "language_info": {
   "codemirror_mode": {
    "name": "ipython",
    "version": 3
   },
   "file_extension": ".py",
   "mimetype": "text/x-python",
   "name": "python",
   "nbconvert_exporter": "python",
   "pygments_lexer": "ipython3",
   "version": "3.8.3"
  }
 },
 "nbformat": 4,
 "nbformat_minor": 4
}
