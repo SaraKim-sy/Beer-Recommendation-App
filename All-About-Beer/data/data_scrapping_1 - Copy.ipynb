{
 "cells": [
  {
   "cell_type": "code",
   "execution_count": 1,
   "metadata": {},
   "outputs": [],
   "source": [
    "import pandas as pd\n",
    "import numpy as np\n",
    "import time\n",
    "\n",
    "import re\n",
    "\n",
    "from selenium import webdriver\n",
    "from selenium.webdriver.chrome.options import Options"
   ]
  },
  {
   "cell_type": "code",
   "execution_count": 2,
   "metadata": {},
   "outputs": [],
   "source": [
    "beer_list = ['Kronenbourg 1664',\n",
    "'Newcastle Brown Ale',\n",
    "\"Rickard's Red\",\n",
    "'Kaiser Beer',\n",
    "\"Maclay's Traditional Pale Ale\",\n",
    "'Carlsberg',\n",
    "'Weihenstephaner Hefeweissbier',\n",
    "'Mill Street Original Organic Lager',\n",
    "'Tatra Beer',\n",
    "'Muskoka Cream Ale',\n",
    "'Samuel Smiths Organic Lager',\n",
    "'Cool Beer Blonde Lager',\n",
    "'Keller Premium Lager',\n",
    "'Creemore Springs Premium Lager',\n",
    "'Erdinger Weissbier',\n",
    "'Harp Lager',\n",
    "'Paulaner Oktoberfest Bier (Wiesn Bier)',\n",
    "'Great Lakes Brewery Canuck Pale Ale',\n",
    "'DAB Original',\n",
    "'Pilsner Urquell',\n",
    "'Guinness Draught',\n",
    "'Tsingtao Beer',\n",
    "'Stella Artois']"
   ]
  },
  {
   "cell_type": "code",
   "execution_count": 3,
   "metadata": {},
   "outputs": [
    {
     "data": {
      "text/plain": [
       "23"
      ]
     },
     "execution_count": 3,
     "metadata": {},
     "output_type": "execute_result"
    }
   ],
   "source": [
    "len(beer_list)"
   ]
  },
  {
   "cell_type": "code",
   "execution_count": 4,
   "metadata": {},
   "outputs": [
    {
     "data": {
      "text/html": [
       "<div>\n",
       "<style scoped>\n",
       "    .dataframe tbody tr th:only-of-type {\n",
       "        vertical-align: middle;\n",
       "    }\n",
       "\n",
       "    .dataframe tbody tr th {\n",
       "        vertical-align: top;\n",
       "    }\n",
       "\n",
       "    .dataframe thead th {\n",
       "        text-align: right;\n",
       "    }\n",
       "</style>\n",
       "<table border=\"1\" class=\"dataframe\">\n",
       "  <thead>\n",
       "    <tr style=\"text-align: right;\">\n",
       "      <th></th>\n",
       "      <th>search_name</th>\n",
       "    </tr>\n",
       "  </thead>\n",
       "  <tbody>\n",
       "    <tr>\n",
       "      <th>0</th>\n",
       "      <td>Kronenbourg 1664</td>\n",
       "    </tr>\n",
       "    <tr>\n",
       "      <th>1</th>\n",
       "      <td>Newcastle Brown Ale</td>\n",
       "    </tr>\n",
       "    <tr>\n",
       "      <th>2</th>\n",
       "      <td>Rickard's Red</td>\n",
       "    </tr>\n",
       "    <tr>\n",
       "      <th>3</th>\n",
       "      <td>Kaiser Beer</td>\n",
       "    </tr>\n",
       "    <tr>\n",
       "      <th>4</th>\n",
       "      <td>Maclay's Traditional Pale Ale</td>\n",
       "    </tr>\n",
       "  </tbody>\n",
       "</table>\n",
       "</div>"
      ],
      "text/plain": [
       "                     search_name\n",
       "0               Kronenbourg 1664\n",
       "1            Newcastle Brown Ale\n",
       "2                  Rickard's Red\n",
       "3                    Kaiser Beer\n",
       "4  Maclay's Traditional Pale Ale"
      ]
     },
     "execution_count": 4,
     "metadata": {},
     "output_type": "execute_result"
    }
   ],
   "source": [
    "beer_list = pd.DataFrame(data=beer_list, columns=['search_name'])\n",
    "beer_list.head()"
   ]
  },
  {
   "cell_type": "code",
   "execution_count": 5,
   "metadata": {},
   "outputs": [
    {
     "name": "stdout",
     "output_type": "stream",
     "text": [
      "Empty DataFrame\n",
      "Columns: [beer_info, search_name, beer_name]\n",
      "Index: []\n"
     ]
    }
   ],
   "source": [
    "# Create DataFrame\n",
    "data = pd.DataFrame(data=[], columns=['beer_info', 'search_name', 'beer_name'])\n",
    "print(data)\n",
    "\n",
    "# chromedriver.exe \n",
    "chromedriver = 'chromedriver.exe'\n",
    "# URL\n",
    "url = 'https://www.ratebeer.com/search?tab=beer'\n",
    "\n",
    "# Web browser open using selenium\n",
    "driver = webdriver.Chrome(chromedriver)\n",
    "driver.get(url)\n",
    "driver.set_window_size(900, 900)\n",
    "time.sleep(1)"
   ]
  },
  {
   "cell_type": "code",
   "execution_count": 6,
   "metadata": {},
   "outputs": [],
   "source": [
    "def crawl(driver, beer, data, k):\n",
    "    # Create Data Frame\n",
    "    data = pd.DataFrame(data=[], columns=['beer_info', 'search_name', 'beer_name'])\n",
    "    print(data)\n",
    "\n",
    "    # url open\n",
    "    print('url_open... {0} We are collecting the beer data..'.format(beer))\n",
    "    \n",
    "    \n",
    "    \n",
    "    driver = webdriver.Chrome(chromedriver)\n",
    "    driver.get(url)\n",
    "    driver.set_window_size(900, 900)\n",
    "\n",
    "    \n",
    "    # Step1 : Search Beer\n",
    "    time.sleep(1)\n",
    "    element = driver.find_element_by_xpath('//*[@id=\"root\"]/div[2]/header/div[2]/div[1]/div[2]/div/div/input')\n",
    "    time.sleep(1)\n",
    "    element.click()\n",
    "    time.sleep(1)\n",
    "    element.send_keys(beer)\n",
    "    time.sleep(1)\n",
    "    \n",
    "\n",
    "\n",
    "    # Step2 : Select the Beer\n",
    "    driver.find_element_by_xpath('//*[@id=\"root\"]/div[2]/header/div[2]/div[1]/div[2]/div/div[2]/a[1]/div/div[2]').click()\n",
    "\n",
    "    # Step3 : Scrapping the Product Beer\n",
    "    time.sleep(3)\n",
    "    beer_name = driver.find_element_by_css_selector('.MuiTypography-root.Text___StyledTypographyTypeless-bukSfn.pzIrn.text-500.colorized__WrappedComponent-hrwcZr.hwjOn.mt-3.MuiTypography-h4').text\n",
    "\n",
    "    error_cnt = 0\n",
    "\n",
    "    while 1:\n",
    "        try :\n",
    "            # Step 4 : Scrapping all reviews (How many reviews do they have?)\n",
    "            time.sleep(1)\n",
    "            string = driver.find_element_by_class_name('MuiTypography-root.Text___StyledTypographyTypeless-bukSfn.pzIrn.text-500.colorized__WrappedComponent-hrwcZr.hwjOn.MuiTypography-h6').text\n",
    "\n",
    "            # checking if ',' is included\n",
    "            extract = re.compile('[0-9]*,*[0-9]+')\n",
    "            str_num = extract.findall(string)\n",
    "            str_num = str_num[0]\n",
    "\n",
    "            print('Success!... get out of while loop.')\n",
    "            break\n",
    "        except :\n",
    "            print('Error..! Restarts.')\n",
    "\n",
    "            error_cnt += 1\n",
    "\n",
    "            if error_cnt == 5:\n",
    "                print('Error is keep showing... Move to the next beer!')\n",
    "                return\n",
    "\n",
    "    if ',' in str_num:\n",
    "        str_num = str_num.split(',')\n",
    "        str_num = int(str_num[0]+str_num[1])\n",
    "        num = str_num\n",
    "    else:\n",
    "        num = int(str_num)\n",
    "\n",
    "    # Step 5 : Click Score breakdown \n",
    "    time.sleep(2)\n",
    "    element = driver.find_element_by_xpath('//*[@id=\"root\"]/div[2]/div[2]/div/div/div/div[2]/div[4]/div/div[2]/div[1]/div[2]')\n",
    "    time.sleep(2)\n",
    "    # This is the code to move to the element. \n",
    "    driver.execute_script(\"arguments[0].click();\", element)\n",
    "\n",
    "    # calculate the number of the pages to check how many we need to scrap\n",
    "    page_num = num // 15 + 1\n",
    "\n",
    "\n",
    "    for i in range(page_num):\n",
    "        print(i+1, 'Page')\n",
    "\n",
    "        # Step 6 : scrapping all of the beer information\n",
    "        time.sleep(3)\n",
    "        beer_info = driver.find_elements_by_css_selector('.px-4.fj-s.f-wrap')\n",
    "\n",
    "        tmp = []\n",
    "\n",
    "        # save the data into dataframe \n",
    "        for i in range(len(beer_info)):\n",
    "            tmp.append(beer_info[i].text)\n",
    "\n",
    "        tmp = pd.DataFrame(data=tmp, columns=['beer_info'])\n",
    "        tmp['beer_name'] = beer_name\n",
    "        tmp['search_name'] = beer\n",
    "        data = pd.concat([data, tmp])\n",
    "\n",
    "        # Step 7 : how to move to next page\n",
    "        \n",
    "        try :\n",
    "            element = driver.find_element_by_xpath('//button[@title=\"Next page\"]/span[@class=\"MuiIconButton-label\"]')\n",
    "            time.sleep(3)\n",
    "            driver.execute_script(\"arguments[0].click();\", element)\n",
    "        except:\n",
    "            print('This is the last page')\n",
    "\n",
    "    # cut the data by the number of the reviews if the data is duplicated\n",
    "    if num != len(data):\n",
    "        data = data[:num]\n",
    "\n",
    "    print('The number of the reviews : ', num, 'The number of the reviews which are acutally collected : ', len(data))\n",
    "\n",
    "    # Save as CSV, Excel \n",
    "    result = pd.merge(data, beer_list, on='search_name', how='left')\n",
    "    result.to_csv(\"beer_n_\"+str(k)+\".csv\", encoding='utf-8')\n",
    "    result.to_excel(\"beer_n_\"+str(k)+\".xlsx\")\n",
    "\n",
    "    driver.quit()\n",
    "\n",
    "    return result\n",
    "\n",
    "\n"
   ]
  },
  {
   "cell_type": "code",
   "execution_count": 7,
   "metadata": {},
   "outputs": [
    {
     "name": "stdout",
     "output_type": "stream",
     "text": [
      "Empty DataFrame\n",
      "Columns: [beer_info, search_name, beer_name]\n",
      "Index: []\n",
      "url_open... Kronenbourg 1664 We are collecting the beer data..\n"
     ]
    },
    {
     "ename": "NoSuchElementException",
     "evalue": "Message: no such element: Unable to locate element: {\"method\":\"xpath\",\"selector\":\"//*[@id=\"root\"]/div[2]/header/div[2]/div[1]/div[2]/div/div[2]/a[1]/div/div[2]\"}\n  (Session info: chrome=89.0.4389.90)\n",
     "output_type": "error",
     "traceback": [
      "\u001b[1;31m---------------------------------------------------------------------------\u001b[0m",
      "\u001b[1;31mNoSuchElementException\u001b[0m                    Traceback (most recent call last)",
      "\u001b[1;32m<ipython-input-7-86ff2b19efa1>\u001b[0m in \u001b[0;36m<module>\u001b[1;34m\u001b[0m\n\u001b[0;32m      1\u001b[0m \u001b[1;31m# ForLoop - 1\u001b[0m\u001b[1;33m\u001b[0m\u001b[1;33m\u001b[0m\u001b[1;33m\u001b[0m\u001b[0m\n\u001b[0;32m      2\u001b[0m \u001b[1;32mfor\u001b[0m \u001b[0mk\u001b[0m \u001b[1;32min\u001b[0m \u001b[0mrange\u001b[0m\u001b[1;33m(\u001b[0m\u001b[0mlen\u001b[0m\u001b[1;33m(\u001b[0m\u001b[0mbeer_list\u001b[0m\u001b[1;33m)\u001b[0m\u001b[1;33m)\u001b[0m\u001b[1;33m:\u001b[0m\u001b[1;33m\u001b[0m\u001b[1;33m\u001b[0m\u001b[0m\n\u001b[1;32m----> 3\u001b[1;33m     \u001b[0mresult\u001b[0m \u001b[1;33m=\u001b[0m \u001b[0mcrawl\u001b[0m\u001b[1;33m(\u001b[0m\u001b[0mdriver\u001b[0m\u001b[1;33m,\u001b[0m \u001b[0mbeer_list\u001b[0m\u001b[1;33m[\u001b[0m\u001b[1;34m'search_name'\u001b[0m\u001b[1;33m]\u001b[0m\u001b[1;33m.\u001b[0m\u001b[0miloc\u001b[0m\u001b[1;33m[\u001b[0m\u001b[0mk\u001b[0m\u001b[1;33m]\u001b[0m\u001b[1;33m,\u001b[0m \u001b[0mdata\u001b[0m\u001b[1;33m,\u001b[0m \u001b[0mk\u001b[0m\u001b[1;33m)\u001b[0m\u001b[1;33m\u001b[0m\u001b[1;33m\u001b[0m\u001b[0m\n\u001b[0m",
      "\u001b[1;32m<ipython-input-6-96cbd0502d00>\u001b[0m in \u001b[0;36mcrawl\u001b[1;34m(driver, beer, data, k)\u001b[0m\n\u001b[0;32m     26\u001b[0m \u001b[1;33m\u001b[0m\u001b[0m\n\u001b[0;32m     27\u001b[0m     \u001b[1;31m# Step2 : Select the Beer\u001b[0m\u001b[1;33m\u001b[0m\u001b[1;33m\u001b[0m\u001b[1;33m\u001b[0m\u001b[0m\n\u001b[1;32m---> 28\u001b[1;33m     \u001b[0mdriver\u001b[0m\u001b[1;33m.\u001b[0m\u001b[0mfind_element_by_xpath\u001b[0m\u001b[1;33m(\u001b[0m\u001b[1;34m'//*[@id=\"root\"]/div[2]/header/div[2]/div[1]/div[2]/div/div[2]/a[1]/div/div[2]'\u001b[0m\u001b[1;33m)\u001b[0m\u001b[1;33m.\u001b[0m\u001b[0mclick\u001b[0m\u001b[1;33m(\u001b[0m\u001b[1;33m)\u001b[0m\u001b[1;33m\u001b[0m\u001b[1;33m\u001b[0m\u001b[0m\n\u001b[0m\u001b[0;32m     29\u001b[0m \u001b[1;33m\u001b[0m\u001b[0m\n\u001b[0;32m     30\u001b[0m     \u001b[1;31m# Step3 : Scrapping the Product Beer\u001b[0m\u001b[1;33m\u001b[0m\u001b[1;33m\u001b[0m\u001b[1;33m\u001b[0m\u001b[0m\n",
      "\u001b[1;32m~\\Anaconda3\\lib\\site-packages\\selenium\\webdriver\\remote\\webdriver.py\u001b[0m in \u001b[0;36mfind_element_by_xpath\u001b[1;34m(self, xpath)\u001b[0m\n\u001b[0;32m    392\u001b[0m             \u001b[0melement\u001b[0m \u001b[1;33m=\u001b[0m \u001b[0mdriver\u001b[0m\u001b[1;33m.\u001b[0m\u001b[0mfind_element_by_xpath\u001b[0m\u001b[1;33m(\u001b[0m\u001b[1;34m'//div/td[1]'\u001b[0m\u001b[1;33m)\u001b[0m\u001b[1;33m\u001b[0m\u001b[1;33m\u001b[0m\u001b[0m\n\u001b[0;32m    393\u001b[0m         \"\"\"\n\u001b[1;32m--> 394\u001b[1;33m         \u001b[1;32mreturn\u001b[0m \u001b[0mself\u001b[0m\u001b[1;33m.\u001b[0m\u001b[0mfind_element\u001b[0m\u001b[1;33m(\u001b[0m\u001b[0mby\u001b[0m\u001b[1;33m=\u001b[0m\u001b[0mBy\u001b[0m\u001b[1;33m.\u001b[0m\u001b[0mXPATH\u001b[0m\u001b[1;33m,\u001b[0m \u001b[0mvalue\u001b[0m\u001b[1;33m=\u001b[0m\u001b[0mxpath\u001b[0m\u001b[1;33m)\u001b[0m\u001b[1;33m\u001b[0m\u001b[1;33m\u001b[0m\u001b[0m\n\u001b[0m\u001b[0;32m    395\u001b[0m \u001b[1;33m\u001b[0m\u001b[0m\n\u001b[0;32m    396\u001b[0m     \u001b[1;32mdef\u001b[0m \u001b[0mfind_elements_by_xpath\u001b[0m\u001b[1;33m(\u001b[0m\u001b[0mself\u001b[0m\u001b[1;33m,\u001b[0m \u001b[0mxpath\u001b[0m\u001b[1;33m)\u001b[0m\u001b[1;33m:\u001b[0m\u001b[1;33m\u001b[0m\u001b[1;33m\u001b[0m\u001b[0m\n",
      "\u001b[1;32m~\\Anaconda3\\lib\\site-packages\\selenium\\webdriver\\remote\\webdriver.py\u001b[0m in \u001b[0;36mfind_element\u001b[1;34m(self, by, value)\u001b[0m\n\u001b[0;32m    974\u001b[0m                 \u001b[0mby\u001b[0m \u001b[1;33m=\u001b[0m \u001b[0mBy\u001b[0m\u001b[1;33m.\u001b[0m\u001b[0mCSS_SELECTOR\u001b[0m\u001b[1;33m\u001b[0m\u001b[1;33m\u001b[0m\u001b[0m\n\u001b[0;32m    975\u001b[0m                 \u001b[0mvalue\u001b[0m \u001b[1;33m=\u001b[0m \u001b[1;34m'[name=\"%s\"]'\u001b[0m \u001b[1;33m%\u001b[0m \u001b[0mvalue\u001b[0m\u001b[1;33m\u001b[0m\u001b[1;33m\u001b[0m\u001b[0m\n\u001b[1;32m--> 976\u001b[1;33m         return self.execute(Command.FIND_ELEMENT, {\n\u001b[0m\u001b[0;32m    977\u001b[0m             \u001b[1;34m'using'\u001b[0m\u001b[1;33m:\u001b[0m \u001b[0mby\u001b[0m\u001b[1;33m,\u001b[0m\u001b[1;33m\u001b[0m\u001b[1;33m\u001b[0m\u001b[0m\n\u001b[0;32m    978\u001b[0m             'value': value})['value']\n",
      "\u001b[1;32m~\\Anaconda3\\lib\\site-packages\\selenium\\webdriver\\remote\\webdriver.py\u001b[0m in \u001b[0;36mexecute\u001b[1;34m(self, driver_command, params)\u001b[0m\n\u001b[0;32m    319\u001b[0m         \u001b[0mresponse\u001b[0m \u001b[1;33m=\u001b[0m \u001b[0mself\u001b[0m\u001b[1;33m.\u001b[0m\u001b[0mcommand_executor\u001b[0m\u001b[1;33m.\u001b[0m\u001b[0mexecute\u001b[0m\u001b[1;33m(\u001b[0m\u001b[0mdriver_command\u001b[0m\u001b[1;33m,\u001b[0m \u001b[0mparams\u001b[0m\u001b[1;33m)\u001b[0m\u001b[1;33m\u001b[0m\u001b[1;33m\u001b[0m\u001b[0m\n\u001b[0;32m    320\u001b[0m         \u001b[1;32mif\u001b[0m \u001b[0mresponse\u001b[0m\u001b[1;33m:\u001b[0m\u001b[1;33m\u001b[0m\u001b[1;33m\u001b[0m\u001b[0m\n\u001b[1;32m--> 321\u001b[1;33m             \u001b[0mself\u001b[0m\u001b[1;33m.\u001b[0m\u001b[0merror_handler\u001b[0m\u001b[1;33m.\u001b[0m\u001b[0mcheck_response\u001b[0m\u001b[1;33m(\u001b[0m\u001b[0mresponse\u001b[0m\u001b[1;33m)\u001b[0m\u001b[1;33m\u001b[0m\u001b[1;33m\u001b[0m\u001b[0m\n\u001b[0m\u001b[0;32m    322\u001b[0m             response['value'] = self._unwrap_value(\n\u001b[0;32m    323\u001b[0m                 response.get('value', None))\n",
      "\u001b[1;32m~\\Anaconda3\\lib\\site-packages\\selenium\\webdriver\\remote\\errorhandler.py\u001b[0m in \u001b[0;36mcheck_response\u001b[1;34m(self, response)\u001b[0m\n\u001b[0;32m    240\u001b[0m                 \u001b[0malert_text\u001b[0m \u001b[1;33m=\u001b[0m \u001b[0mvalue\u001b[0m\u001b[1;33m[\u001b[0m\u001b[1;34m'alert'\u001b[0m\u001b[1;33m]\u001b[0m\u001b[1;33m.\u001b[0m\u001b[0mget\u001b[0m\u001b[1;33m(\u001b[0m\u001b[1;34m'text'\u001b[0m\u001b[1;33m)\u001b[0m\u001b[1;33m\u001b[0m\u001b[1;33m\u001b[0m\u001b[0m\n\u001b[0;32m    241\u001b[0m             \u001b[1;32mraise\u001b[0m \u001b[0mexception_class\u001b[0m\u001b[1;33m(\u001b[0m\u001b[0mmessage\u001b[0m\u001b[1;33m,\u001b[0m \u001b[0mscreen\u001b[0m\u001b[1;33m,\u001b[0m \u001b[0mstacktrace\u001b[0m\u001b[1;33m,\u001b[0m \u001b[0malert_text\u001b[0m\u001b[1;33m)\u001b[0m\u001b[1;33m\u001b[0m\u001b[1;33m\u001b[0m\u001b[0m\n\u001b[1;32m--> 242\u001b[1;33m         \u001b[1;32mraise\u001b[0m \u001b[0mexception_class\u001b[0m\u001b[1;33m(\u001b[0m\u001b[0mmessage\u001b[0m\u001b[1;33m,\u001b[0m \u001b[0mscreen\u001b[0m\u001b[1;33m,\u001b[0m \u001b[0mstacktrace\u001b[0m\u001b[1;33m)\u001b[0m\u001b[1;33m\u001b[0m\u001b[1;33m\u001b[0m\u001b[0m\n\u001b[0m\u001b[0;32m    243\u001b[0m \u001b[1;33m\u001b[0m\u001b[0m\n\u001b[0;32m    244\u001b[0m     \u001b[1;32mdef\u001b[0m \u001b[0m_value_or_default\u001b[0m\u001b[1;33m(\u001b[0m\u001b[0mself\u001b[0m\u001b[1;33m,\u001b[0m \u001b[0mobj\u001b[0m\u001b[1;33m,\u001b[0m \u001b[0mkey\u001b[0m\u001b[1;33m,\u001b[0m \u001b[0mdefault\u001b[0m\u001b[1;33m)\u001b[0m\u001b[1;33m:\u001b[0m\u001b[1;33m\u001b[0m\u001b[1;33m\u001b[0m\u001b[0m\n",
      "\u001b[1;31mNoSuchElementException\u001b[0m: Message: no such element: Unable to locate element: {\"method\":\"xpath\",\"selector\":\"//*[@id=\"root\"]/div[2]/header/div[2]/div[1]/div[2]/div/div[2]/a[1]/div/div[2]\"}\n  (Session info: chrome=89.0.4389.90)\n"
     ]
    }
   ],
   "source": [
    "# ForLoop - 1\n",
    "for k in range(len(beer_list)):\n",
    "    result = crawl(driver, beer_list['search_name'].iloc[k], data, k)"
   ]
  },
  {
   "cell_type": "code",
   "execution_count": null,
   "metadata": {},
   "outputs": [],
   "source": []
  }
 ],
 "metadata": {
  "kernelspec": {
   "display_name": "Python 3",
   "language": "python",
   "name": "python3"
  },
  "language_info": {
   "codemirror_mode": {
    "name": "ipython",
    "version": 3
   },
   "file_extension": ".py",
   "mimetype": "text/x-python",
   "name": "python",
   "nbconvert_exporter": "python",
   "pygments_lexer": "ipython3",
   "version": "3.8.3"
  }
 },
 "nbformat": 4,
 "nbformat_minor": 4
}
