{
 "cells": [
  {
   "cell_type": "code",
   "execution_count": 1,
   "metadata": {},
   "outputs": [],
   "source": [
    "import pandas as pd\n",
    "import numpy as np\n",
    "import time\n",
    "\n",
    "import re\n",
    "\n",
    "from selenium import webdriver\n",
    "from selenium.webdriver.chrome.options import Options"
   ]
  },
  {
   "cell_type": "code",
   "execution_count": 2,
   "metadata": {},
   "outputs": [],
   "source": [
    "beer_list = [\"Bud Light\",\n",
    "'Kronenbourg 1664',\n",
    "'Newcastle Brown Ale',\n",
    "\"Rickard's Red\",\n",
    "'Kaiser Beer',\n",
    "\"Maclay's Traditional Pale Ale\",\n",
    "'Carlsberg',\n",
    "'Weihenstephaner Hefeweissbier',\n",
    "'Mill Street Original Organic Lager',\n",
    "'Tatra Beer',\n",
    "'Muskoka Cream Ale',\n",
    "'Samuel Smiths Organic Lager',\n",
    "'Cool Beer Blonde Lager',\n",
    "'Keller Premium Lager',\n",
    "'Creemore Springs Premium Lager',\n",
    "'Erdinger Weissbier',\n",
    "'Harp Lager',\n",
    "'Paulaner Oktoberfest Bier (Wiesn Bier)',\n",
    "'Great Lakes Brewery Canuck Pale Ale',\n",
    "'DAB Original',\n",
    "'Pilsner Urquell',\n",
    "'Guinness Draught',\n",
    "'Tsingtao Beer',\n",
    "'Stella Artois']"
   ]
  },
  {
   "cell_type": "code",
   "execution_count": 3,
   "metadata": {},
   "outputs": [
    {
     "data": {
      "text/plain": [
       "24"
      ]
     },
     "execution_count": 3,
     "metadata": {},
     "output_type": "execute_result"
    }
   ],
   "source": [
    "len(beer_list)"
   ]
  },
  {
   "cell_type": "code",
   "execution_count": 4,
   "metadata": {},
   "outputs": [
    {
     "data": {
      "text/html": [
       "<div>\n",
       "<style scoped>\n",
       "    .dataframe tbody tr th:only-of-type {\n",
       "        vertical-align: middle;\n",
       "    }\n",
       "\n",
       "    .dataframe tbody tr th {\n",
       "        vertical-align: top;\n",
       "    }\n",
       "\n",
       "    .dataframe thead th {\n",
       "        text-align: right;\n",
       "    }\n",
       "</style>\n",
       "<table border=\"1\" class=\"dataframe\">\n",
       "  <thead>\n",
       "    <tr style=\"text-align: right;\">\n",
       "      <th></th>\n",
       "      <th>search_name</th>\n",
       "    </tr>\n",
       "  </thead>\n",
       "  <tbody>\n",
       "    <tr>\n",
       "      <th>0</th>\n",
       "      <td>Bud Light</td>\n",
       "    </tr>\n",
       "    <tr>\n",
       "      <th>1</th>\n",
       "      <td>Kronenbourg 1664</td>\n",
       "    </tr>\n",
       "    <tr>\n",
       "      <th>2</th>\n",
       "      <td>Newcastle Brown Ale</td>\n",
       "    </tr>\n",
       "    <tr>\n",
       "      <th>3</th>\n",
       "      <td>Rickard's Red</td>\n",
       "    </tr>\n",
       "    <tr>\n",
       "      <th>4</th>\n",
       "      <td>Kaiser Beer</td>\n",
       "    </tr>\n",
       "  </tbody>\n",
       "</table>\n",
       "</div>"
      ],
      "text/plain": [
       "           search_name\n",
       "0            Bud Light\n",
       "1     Kronenbourg 1664\n",
       "2  Newcastle Brown Ale\n",
       "3        Rickard's Red\n",
       "4          Kaiser Beer"
      ]
     },
     "execution_count": 4,
     "metadata": {},
     "output_type": "execute_result"
    }
   ],
   "source": [
    "beer_list = pd.DataFrame(data=beer_list, columns=['search_name'])\n",
    "beer_list.head()"
   ]
  },
  {
   "cell_type": "code",
   "execution_count": 5,
   "metadata": {},
   "outputs": [
    {
     "name": "stdout",
     "output_type": "stream",
     "text": [
      "Empty DataFrame\n",
      "Columns: [beer_info, search_name, beer_name]\n",
      "Index: []\n"
     ]
    }
   ],
   "source": [
    "# Create DataFrame\n",
    "data = pd.DataFrame(data=[], columns=['beer_info', 'search_name', 'beer_name'])\n",
    "print(data)\n",
    "\n",
    "# chromedriver.exe \n",
    "chromedriver = 'chromedriver.exe'\n",
    "# URL\n",
    "url = 'https://www.ratebeer.com/search?tab=beer'\n",
    "\n",
    "# Web browser open using selenium\n",
    "driver = webdriver.Chrome(chromedriver)\n",
    "driver.get(url)\n",
    "driver.set_window_size(900, 900)\n",
    "time.sleep(1)"
   ]
  },
  {
   "cell_type": "code",
   "execution_count": 6,
   "metadata": {},
   "outputs": [],
   "source": [
    "def crawl(driver, beer, data, k):\n",
    "    # Create Data Frame\n",
    "    data = pd.DataFrame(data=[], columns=['beer_info', 'search_name', 'beer_name'])\n",
    "    print(data)\n",
    "\n",
    "    # url open\n",
    "    print('url_open... {0} We are collecting the beer data..'.format(beer))\n",
    "    \n",
    "    \n",
    "    \n",
    "    driver = webdriver.Chrome(chromedriver)\n",
    "    driver.get(url)\n",
    "    driver.set_window_size(900, 900)\n",
    "\n",
    "    \n",
    "    # Step1 : Search Beer\n",
    "    time.sleep(1)\n",
    "    element = driver.find_element_by_xpath('//*[@id=\"root\"]/div[2]/header/div[2]/div[1]/div[2]/div/div/input')\n",
    "    time.sleep(1)\n",
    "    element.click()\n",
    "    time.sleep(1)\n",
    "    element.send_keys(beer)\n",
    "    time.sleep(1)\n",
    "    \n",
    "\n",
    "\n",
    "    # Step2 : Select the Beer\n",
    "    driver.find_element_by_xpath('//*[@id=\"root\"]/div[2]/header/div[2]/div[1]/div[2]/div/div[2]/a[1]/div/div[2]').click()\n",
    "\n",
    "    # Step3 : Scrapping the Product Beer\n",
    "    time.sleep(3)\n",
    "    beer_name = driver.find_element_by_css_selector('.MuiTypography-root.Text___StyledTypographyTypeless-bukSfn.pzIrn.text-500.colorized__WrappedComponent-hrwcZr.hwjOn.mt-3.MuiTypography-h4').text\n",
    "\n",
    "    error_cnt = 0\n",
    "\n",
    "    while 1:\n",
    "        try :\n",
    "            # Step 4 : Scrapping all reviews (How many reviews do they have?)\n",
    "            time.sleep(1)\n",
    "            string = driver.find_element_by_class_name('MuiTypography-root.Text___StyledTypographyTypeless-bukSfn.pzIrn.text-500.colorized__WrappedComponent-hrwcZr.hwjOn.MuiTypography-h6').text\n",
    "\n",
    "            # checking if ',' is included\n",
    "            extract = re.compile('[0-9]*,*[0-9]+')\n",
    "            str_num = extract.findall(string)\n",
    "            str_num = str_num[0]\n",
    "\n",
    "            print('Success!... get out of while loop.')\n",
    "            break\n",
    "        except :\n",
    "            print('Error..! Restarts.')\n",
    "\n",
    "            error_cnt += 1\n",
    "\n",
    "            if error_cnt == 5:\n",
    "                print('Error is keep showing... Move to the next beer!')\n",
    "                return\n",
    "\n",
    "    if ',' in str_num:\n",
    "        str_num = str_num.split(',')\n",
    "        str_num = int(str_num[0]+str_num[1])\n",
    "        num = str_num\n",
    "    else:\n",
    "        num = int(str_num)\n",
    "\n",
    "    # Step 5 : Click Score breakdown \n",
    "    time.sleep(2)\n",
    "    element = driver.find_element_by_xpath('//*[@id=\"root\"]/div[2]/div[2]/div/div/div/div[2]/div[4]/div/div[2]/div[1]/div[2]')\n",
    "    time.sleep(2)\n",
    "    # This is the code to move to the element. \n",
    "    driver.execute_script(\"arguments[0].click();\", element)\n",
    "\n",
    "    # calculate the number of the pages to check how many we need to scrap\n",
    "    page_num = num // 15 + 1\n",
    "\n",
    "\n",
    "    for i in range(page_num):\n",
    "        print(i+1, 'Page')\n",
    "\n",
    "        # Step 6 : scrapping all of the beer information\n",
    "        time.sleep(3)\n",
    "        beer_info = driver.find_elements_by_css_selector('.px-4.fj-s.f-wrap')\n",
    "\n",
    "        tmp = []\n",
    "\n",
    "        # save the data into dataframe \n",
    "        for i in range(len(beer_info)):\n",
    "            tmp.append(beer_info[i].text)\n",
    "\n",
    "        tmp = pd.DataFrame(data=tmp, columns=['beer_info'])\n",
    "        tmp['beer_name'] = beer_name\n",
    "        tmp['search_name'] = beer\n",
    "        data = pd.concat([data, tmp])\n",
    "\n",
    "        # Step 7 : how to move to next page\n",
    "        \n",
    "        try :\n",
    "            element = driver.find_element_by_xpath('//button[@title=\"Next page\"]/span[@class=\"MuiIconButton-label\"]')\n",
    "            time.sleep(3)\n",
    "            driver.execute_script(\"arguments[0].click();\", element)\n",
    "        except:\n",
    "            print('This is the last page')\n",
    "\n",
    "    # cut the data by the number of the reviews if the data is duplicated\n",
    "    if num != len(data):\n",
    "        data = data[:num]\n",
    "\n",
    "    print('The number of the reviews : ', num, 'The number of the reviews which are acutally collected : ', len(data))\n",
    "\n",
    "    # Save as CSV, Excel \n",
    "    result = pd.merge(data, beer_list, on='search_name', how='left')\n",
    "    result.to_csv(\"beer_n_\"+str(k)+\".csv\", encoding='utf-8')\n",
    "    result.to_excel(\"beer_n_\"+str(k)+\".xlsx\")\n",
    "\n",
    "    driver.quit()\n",
    "\n",
    "    return result\n",
    "\n",
    "\n"
   ]
  },
  {
   "cell_type": "code",
   "execution_count": null,
   "metadata": {},
   "outputs": [
    {
     "name": "stdout",
     "output_type": "stream",
     "text": [
      "Empty DataFrame\n",
      "Columns: [beer_info, search_name, beer_name]\n",
      "Index: []\n",
      "url_open... Bud Light We are collecting the beer data..\n",
      "Success!... get out of while loop.\n",
      "1 Page\n",
      "2 Page\n"
     ]
    }
   ],
   "source": [
    "# ForLoop - 1\n",
    "for k in range(len(beer_list)):\n",
    "    result = crawl(driver, beer_list['search_name'].iloc[k], data, k)"
   ]
  },
  {
   "cell_type": "code",
   "execution_count": null,
   "metadata": {},
   "outputs": [],
   "source": []
  }
 ],
 "metadata": {
  "kernelspec": {
   "display_name": "Python 3",
   "language": "python",
   "name": "python3"
  },
  "language_info": {
   "codemirror_mode": {
    "name": "ipython",
    "version": 3
   },
   "file_extension": ".py",
   "mimetype": "text/x-python",
   "name": "python",
   "nbconvert_exporter": "python",
   "pygments_lexer": "ipython3",
   "version": "3.8.3"
  }
 },
 "nbformat": 4,
 "nbformat_minor": 4
}
